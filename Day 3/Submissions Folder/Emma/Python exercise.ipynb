{
 "cells": [
  {
   "cell_type": "code",
   "execution_count": 79,
   "id": "2f96c02d-8da2-4f76-9853-dace10cea0c7",
   "metadata": {},
   "outputs": [],
   "source": [
    "import pandas as pd\n",
    "import seaborn as sns\n",
    "import numpy as np\n",
    "import matplotlib.pyplot as plt\n",
    "from sklearn.preprocessing import LabelEncoder"
   ]
  },
  {
   "cell_type": "code",
   "execution_count": 48,
   "id": "f28e3b89-1291-4931-94b4-4674ce41f84b",
   "metadata": {},
   "outputs": [],
   "source": [
    "titanic= pd.DataFrame(sns.load_dataset('titanic'))"
   ]
  },
  {
   "cell_type": "code",
   "execution_count": 97,
   "id": "2d5eb71e-cc86-4a5b-b29a-68f10dec9a08",
   "metadata": {},
   "outputs": [
    {
     "data": {
      "text/html": [
       "<div>\n",
       "<style scoped>\n",
       "    .dataframe tbody tr th:only-of-type {\n",
       "        vertical-align: middle;\n",
       "    }\n",
       "\n",
       "    .dataframe tbody tr th {\n",
       "        vertical-align: top;\n",
       "    }\n",
       "\n",
       "    .dataframe thead th {\n",
       "        text-align: right;\n",
       "    }\n",
       "</style>\n",
       "<table border=\"1\" class=\"dataframe\">\n",
       "  <thead>\n",
       "    <tr style=\"text-align: right;\">\n",
       "      <th></th>\n",
       "      <th>survived</th>\n",
       "      <th>pclass</th>\n",
       "      <th>sex</th>\n",
       "      <th>age</th>\n",
       "      <th>sibsp</th>\n",
       "      <th>parch</th>\n",
       "      <th>fare</th>\n",
       "      <th>embarked</th>\n",
       "      <th>class</th>\n",
       "      <th>who</th>\n",
       "      <th>adult_male</th>\n",
       "      <th>deck</th>\n",
       "      <th>embark_town</th>\n",
       "      <th>alive</th>\n",
       "      <th>alone</th>\n",
       "    </tr>\n",
       "  </thead>\n",
       "  <tbody>\n",
       "    <tr>\n",
       "      <th>0</th>\n",
       "      <td>0</td>\n",
       "      <td>3</td>\n",
       "      <td>male</td>\n",
       "      <td>22.0</td>\n",
       "      <td>1</td>\n",
       "      <td>0</td>\n",
       "      <td>7.2500</td>\n",
       "      <td>S</td>\n",
       "      <td>Third</td>\n",
       "      <td>man</td>\n",
       "      <td>True</td>\n",
       "      <td>NaN</td>\n",
       "      <td>Southampton</td>\n",
       "      <td>no</td>\n",
       "      <td>False</td>\n",
       "    </tr>\n",
       "    <tr>\n",
       "      <th>1</th>\n",
       "      <td>1</td>\n",
       "      <td>1</td>\n",
       "      <td>female</td>\n",
       "      <td>38.0</td>\n",
       "      <td>1</td>\n",
       "      <td>0</td>\n",
       "      <td>71.2833</td>\n",
       "      <td>C</td>\n",
       "      <td>First</td>\n",
       "      <td>woman</td>\n",
       "      <td>False</td>\n",
       "      <td>C</td>\n",
       "      <td>Cherbourg</td>\n",
       "      <td>yes</td>\n",
       "      <td>False</td>\n",
       "    </tr>\n",
       "    <tr>\n",
       "      <th>2</th>\n",
       "      <td>1</td>\n",
       "      <td>3</td>\n",
       "      <td>female</td>\n",
       "      <td>26.0</td>\n",
       "      <td>0</td>\n",
       "      <td>0</td>\n",
       "      <td>7.9250</td>\n",
       "      <td>S</td>\n",
       "      <td>Third</td>\n",
       "      <td>woman</td>\n",
       "      <td>False</td>\n",
       "      <td>NaN</td>\n",
       "      <td>Southampton</td>\n",
       "      <td>yes</td>\n",
       "      <td>True</td>\n",
       "    </tr>\n",
       "    <tr>\n",
       "      <th>3</th>\n",
       "      <td>1</td>\n",
       "      <td>1</td>\n",
       "      <td>female</td>\n",
       "      <td>35.0</td>\n",
       "      <td>1</td>\n",
       "      <td>0</td>\n",
       "      <td>53.1000</td>\n",
       "      <td>S</td>\n",
       "      <td>First</td>\n",
       "      <td>woman</td>\n",
       "      <td>False</td>\n",
       "      <td>C</td>\n",
       "      <td>Southampton</td>\n",
       "      <td>yes</td>\n",
       "      <td>False</td>\n",
       "    </tr>\n",
       "    <tr>\n",
       "      <th>4</th>\n",
       "      <td>0</td>\n",
       "      <td>3</td>\n",
       "      <td>male</td>\n",
       "      <td>35.0</td>\n",
       "      <td>0</td>\n",
       "      <td>0</td>\n",
       "      <td>8.0500</td>\n",
       "      <td>S</td>\n",
       "      <td>Third</td>\n",
       "      <td>man</td>\n",
       "      <td>True</td>\n",
       "      <td>NaN</td>\n",
       "      <td>Southampton</td>\n",
       "      <td>no</td>\n",
       "      <td>True</td>\n",
       "    </tr>\n",
       "  </tbody>\n",
       "</table>\n",
       "</div>"
      ],
      "text/plain": [
       "   survived  pclass     sex   age  sibsp  parch     fare embarked  class  \\\n",
       "0         0       3    male  22.0      1      0   7.2500        S  Third   \n",
       "1         1       1  female  38.0      1      0  71.2833        C  First   \n",
       "2         1       3  female  26.0      0      0   7.9250        S  Third   \n",
       "3         1       1  female  35.0      1      0  53.1000        S  First   \n",
       "4         0       3    male  35.0      0      0   8.0500        S  Third   \n",
       "\n",
       "     who  adult_male deck  embark_town alive  alone  \n",
       "0    man        True  NaN  Southampton    no  False  \n",
       "1  woman       False    C    Cherbourg   yes  False  \n",
       "2  woman       False  NaN  Southampton   yes   True  \n",
       "3  woman       False    C  Southampton   yes  False  \n",
       "4    man        True  NaN  Southampton    no   True  "
      ]
     },
     "execution_count": 97,
     "metadata": {},
     "output_type": "execute_result"
    }
   ],
   "source": [
    "titanic.head()"
   ]
  },
  {
   "cell_type": "code",
   "execution_count": 50,
   "id": "27c87ecf-1299-48a9-b348-b580ab071d87",
   "metadata": {},
   "outputs": [
    {
     "name": "stdout",
     "output_type": "stream",
     "text": [
      "(891, 15)\n"
     ]
    }
   ],
   "source": [
    "print(titanic.shape)"
   ]
  },
  {
   "cell_type": "code",
   "execution_count": 51,
   "id": "2e7e248d-c7a9-4d79-a81a-28a30e6fca3c",
   "metadata": {},
   "outputs": [
    {
     "name": "stdout",
     "output_type": "stream",
     "text": [
      "survived         0\n",
      "pclass           0\n",
      "sex              0\n",
      "age            177\n",
      "sibsp            0\n",
      "parch            0\n",
      "fare             0\n",
      "embarked         2\n",
      "class            0\n",
      "who              0\n",
      "adult_male       0\n",
      "deck           688\n",
      "embark_town      2\n",
      "alive            0\n",
      "alone            0\n",
      "dtype: int64\n"
     ]
    }
   ],
   "source": [
    "#identify missing values\n",
    "missing_values = titanic.isnull().sum()\n",
    "print(missing_values)"
   ]
  },
  {
   "cell_type": "code",
   "execution_count": 52,
   "id": "e3db9216-b0b9-44ef-8bb9-68025b183ca2",
   "metadata": {},
   "outputs": [
    {
     "name": "stdout",
     "output_type": "stream",
     "text": [
      "107\n"
     ]
    }
   ],
   "source": [
    "#look for duplicate rows\n",
    "duplicates= titanic.duplicated()\n",
    "print(duplicates.sum())"
   ]
  },
  {
   "cell_type": "code",
   "execution_count": 53,
   "id": "4502bf89-3208-48a8-bdeb-fa82bb7e28c3",
   "metadata": {},
   "outputs": [],
   "source": [
    "#remove duplicates\n",
    "titanic_cleaned= titanic.drop_duplicates()"
   ]
  },
  {
   "cell_type": "code",
   "execution_count": 54,
   "id": "f54116cc-6c00-4086-a429-990b5f8293a9",
   "metadata": {},
   "outputs": [
    {
     "name": "stdout",
     "output_type": "stream",
     "text": [
      "(784, 15)\n"
     ]
    }
   ],
   "source": [
    "print (titanic_cleaned.shape)"
   ]
  },
  {
   "cell_type": "code",
   "execution_count": 55,
   "id": "1883d945-0897-49cd-a86f-efaf349e9f16",
   "metadata": {},
   "outputs": [
    {
     "name": "stdout",
     "output_type": "stream",
     "text": [
      "Unique values in 'sex' column: ['male' 'female']\n"
     ]
    }
   ],
   "source": [
    "#identify inconsistencies in sex column\n",
    "print(\"Unique values in 'sex' column:\", titanic_cleaned['sex'].unique())"
   ]
  },
  {
   "cell_type": "code",
   "execution_count": 61,
   "id": "b31157bc-10ba-43f8-9f5f-482e3ef5ed6e",
   "metadata": {},
   "outputs": [],
   "source": [
    "#def detect_outliers_zscore(data, column):\n",
    "#    mean = data[column].mean()\n",
    "#    std = data[column].std()\n",
    "#    z_scores = (data[column] - mean) / std\n",
    "#    return data[np.abs(z_scores) > 3]\n",
    "\n",
    "#age_outliers = detect_outliers_zscore(titanic_cleaned, 'age')\n",
    "#print(\"Outliers in 'Age':\\n\", age_outliers)"
   ]
  },
  {
   "cell_type": "code",
   "execution_count": 68,
   "id": "c6537be1-0099-4cd0-a335-dec078c31f4f",
   "metadata": {},
   "outputs": [
    {
     "name": "stdout",
     "output_type": "stream",
     "text": [
      "     survived  pclass   sex   age  sibsp  parch     fare embarked   class  \\\n",
      "96          0       1  male  71.0      0      0  34.6542        C   First   \n",
      "116         0       3  male  70.5      0      0   7.7500        Q   Third   \n",
      "493         0       1  male  71.0      0      0  49.5042        C   First   \n",
      "630         1       1  male  80.0      0      0  30.0000        S   First   \n",
      "672         0       2  male  70.0      0      0  10.5000        S  Second   \n",
      "745         0       1  male  70.0      1      1  71.0000        S   First   \n",
      "851         0       3  male  74.0      0      0   7.7750        S   Third   \n",
      "\n",
      "     who  adult_male deck  embark_town alive  alone  \n",
      "96   man        True    A    Cherbourg    no   True  \n",
      "116  man        True  NaN   Queenstown    no   True  \n",
      "493  man        True  NaN    Cherbourg    no   True  \n",
      "630  man        True    A  Southampton   yes   True  \n",
      "672  man        True  NaN  Southampton    no   True  \n",
      "745  man        True    B  Southampton    no  False  \n",
      "851  man        True  NaN  Southampton    no   True  \n"
     ]
    }
   ],
   "source": [
    "def detect_outliers_iqr(data, column):\n",
    "    Q1 = np.percentile(data[column].dropna(), 25)\n",
    "    Q3 = np.percentile(data[column].dropna(), 75)\n",
    "    IQR = Q3 - Q1\n",
    "    lower_bound = Q1 - 1.5 * IQR\n",
    "    upper_bound = Q3 + 1.5 * IQR\n",
    "    return data[(data[column] < lower_bound) | (data[column] > upper_bound)]\n",
    "\n",
    "age_outliers_df = detect_outliers_iqr(titanic_cleaned, 'age') #put in its own dataframe\n",
    "print(age_outliers_df) "
   ]
  },
  {
   "cell_type": "code",
   "execution_count": 69,
   "id": "9c325fc5-7831-4c19-abb5-7c3f5a49869f",
   "metadata": {},
   "outputs": [
    {
     "data": {
      "image/png": "[encoded data removed]",
      "text/plain": [
       "<Figure size 400x300 with 1 Axes>"
      ]
     },
     "metadata": {},
     "output_type": "display_data"
    }
   ],
   "source": [
    "plt.figure(figsize=(4,3))\n",
    "plt.boxplot(titanic['age'].dropna(), vert=False, patch_artist=True, boxprops=dict(facecolor=\"lightblue\"))\n",
    "plt.title('Boxplot for Age')\n",
    "plt.xlabel('Age')\n",
    "plt.show()"
   ]
  },
  {
   "cell_type": "code",
   "execution_count": 71,
   "id": "837410a3-7356-436c-a277-e5f210b5d56b",
   "metadata": {},
   "outputs": [
    {
     "name": "stdout",
     "output_type": "stream",
     "text": [
      "     survived  pclass     sex   age  sibsp  parch      fare embarked  class  \\\n",
      "27          0       1    male  19.0      3      2  263.0000        S  First   \n",
      "31          1       1  female   NaN      1      0  146.5208        C  First   \n",
      "34          0       1    male  28.0      1      0   82.1708        C  First   \n",
      "52          1       1  female  49.0      1      0   76.7292        C  First   \n",
      "61          1       1  female  38.0      0      0   80.0000      NaN  First   \n",
      "..        ...     ...     ...   ...    ...    ...       ...      ...    ...   \n",
      "829         1       1  female  62.0      0      0   80.0000      NaN  First   \n",
      "835         1       1  female  39.0      1      1   83.1583        C  First   \n",
      "849         1       1  female   NaN      1      0   89.1042        C  First   \n",
      "856         1       1  female  45.0      1      1  164.8667        S  First   \n",
      "879         1       1  female  56.0      0      1   83.1583        C  First   \n",
      "\n",
      "       who  adult_male deck  embark_town alive  alone  \n",
      "27     man        True    C  Southampton    no  False  \n",
      "31   woman       False    B    Cherbourg   yes  False  \n",
      "34     man        True  NaN    Cherbourg    no  False  \n",
      "52   woman       False    D    Cherbourg   yes  False  \n",
      "61   woman       False    B          NaN   yes   True  \n",
      "..     ...         ...  ...          ...   ...    ...  \n",
      "829  woman       False    B          NaN   yes   True  \n",
      "835  woman       False    E    Cherbourg   yes  False  \n",
      "849  woman       False    C    Cherbourg   yes  False  \n",
      "856  woman       False  NaN  Southampton   yes  False  \n",
      "879  woman       False    C    Cherbourg   yes  False  \n",
      "\n",
      "[102 rows x 15 columns]\n"
     ]
    }
   ],
   "source": [
    "fare_outliers_df = detect_outliers_iqr(titanic_cleaned, 'fare') #put in its own dataframe\n",
    "print(fare_outliers_df) "
   ]
  },
  {
   "cell_type": "code",
   "execution_count": 70,
   "id": "5faba79f-7331-4da3-a23e-2415637fcf1d",
   "metadata": {},
   "outputs": [
    {
     "data": {
      "image/png": "[encoded data removed]",
      "text/plain": [
       "<Figure size 400x300 with 1 Axes>"
      ]
     },
     "metadata": {},
     "output_type": "display_data"
    }
   ],
   "source": [
    "plt.figure(figsize=(4, 3))\n",
    "plt.boxplot(titanic['fare'].dropna(), vert=False, patch_artist=True, boxprops=dict(facecolor=\"lightgreen\"))\n",
    "plt.title('Boxplot for Fare')\n",
    "plt.xlabel('Fare')\n",
    "plt.show()"
   ]
  },
  {
   "cell_type": "code",
   "execution_count": 75,
   "id": "3638e096-4ae2-4f50-add7-d748a214638d",
   "metadata": {},
   "outputs": [],
   "source": [
    "# Combine the outliers into a single DataFrame\n",
    "outliers_df = pd.concat([age_outliers_df, fare_outliers_df]).drop_duplicates()\n",
    "\n",
    "# Remove outliers from the original dataset\n",
    "titanic_cleaned = titanic_cleaned.drop(outliers_df.index)"
   ]
  },
  {
   "cell_type": "code",
   "execution_count": 76,
   "id": "8c8cb363-cf0a-4765-af8b-28ef51402140",
   "metadata": {},
   "outputs": [
    {
     "name": "stdout",
     "output_type": "stream",
     "text": [
      "   sibsp  parch  Family_Size\n",
      "0      1      0            2\n",
      "1      1      0            2\n",
      "2      0      0            1\n",
      "3      1      0            2\n",
      "4      0      0            1\n"
     ]
    }
   ],
   "source": [
    "# Create the \"Family_Size\" feature\n",
    "titanic_cleaned.loc[:, 'Family_Size'] = titanic_cleaned['sibsp'] + titanic_cleaned['parch'] + 1 #Adding +1 accounts for the individual themselves\n",
    "print(titanic_cleaned[['sibsp', 'parch', 'Family_Size']].head())"
   ]
  },
  {
   "cell_type": "code",
   "execution_count": 83,
   "id": "a0c802d7-6b56-49a4-b89e-1b1bdd713d25",
   "metadata": {},
   "outputs": [
    {
     "name": "stdout",
     "output_type": "stream",
     "text": [
      "  embarked  Embarked_numerical\n",
      "0        S                   2\n",
      "1        C                   0\n",
      "2        S                   2\n",
      "3        S                   2\n",
      "4        S                   2\n"
     ]
    }
   ],
   "source": [
    "#Convert the \"Embarked\" column to numerical values using label encoding\n",
    "label_encoder = LabelEncoder()\n",
    "titanic_cleaned['Embarked_numerical'] = label_encoder.fit_transform(titanic_cleaned['embarked'])\n",
    "print(titanic_cleaned[['embarked', 'Embarked_numerical']].head())"
   ]
  },
  {
   "cell_type": "code",
   "execution_count": 92,
   "id": "aa39e536-101d-454f-aa21-da9025de1270",
   "metadata": {},
   "outputs": [
    {
     "name": "stdout",
     "output_type": "stream",
     "text": [
      "The column does not exist!\n"
     ]
    }
   ],
   "source": [
    "if 'ticket_purchase_date' in titanic_cleaned.columns:\n",
    "    print(\"The column exists!\")\n",
    "else:\n",
    "    print(\"The column does not exist!\")"
   ]
  },
  {
   "cell_type": "code",
   "execution_count": 90,
   "id": "99626e93-6243-4eb7-8c06-061ea3abc911",
   "metadata": {},
   "outputs": [],
   "source": [
    "# Convert the 'Ticket_Purchase_Date' column to datetime\n",
    "#titanic_cleaned['Ticket_Purchase_Date'] = pd.to_datetime(titanic_cleaned['Ticket_Purchase_Date'])\n",
    "\n",
    "# Extract the year and month into new columns\n",
    "#titanic_cleaned['Year'] = titanic_cleaned['Ticket_Purchase_Date'].dt.year\n",
    "#titanic_cleaned['Month'] = titanic_cleaned['Ticket_Purchase_Date'].dt.month\n",
    "\n",
    "# Display the DataFrame\n",
    "#print(titanic_cleaned)"
   ]
  },
  {
   "cell_type": "code",
   "execution_count": 95,
   "id": "7807a184-c667-44d8-8d3d-95c0d5a3386e",
   "metadata": {},
   "outputs": [
    {
     "name": "stdout",
     "output_type": "stream",
     "text": [
      "The column does not exist!\n"
     ]
    }
   ],
   "source": [
    "if 'name' in titanic_cleaned.columns:\n",
    "    print(\"The column exists!\")\n",
    "else:\n",
    "    print(\"The column does not exist!\")\n",
    "\n",
    "# Remove titles in Name\n",
    "#titanic_cleaned['Cleaned_Name'] = titanic_cleaned['name'].str.replace(r'(Mr\\.|Mrs\\.|Miss|Ms\\.)', '', regex=True)\n",
    "\n",
    "# Convert the \"Cleaned_Name\" column to lowercase\n",
    "#titanic_cleaned['Cleaned_Name'] = titanic_cleaned['Cleaned_Name'].str.lower()\n",
    "\n",
    "# Remove leading/trailing whitespace for a polished result\n",
    "#titanic_cleaned['Cleaned_Name'] = titanic_cleaned['Cleaned_Name'].str.strip()\n",
    "\n",
    "# Display the DataFrame\n",
    "#print(titanic_cleaned)"
   ]
  },
  {
   "cell_type": "code",
   "execution_count": 96,
   "id": "18ec7fdd-0533-4618-abdb-95df2ff21356",
   "metadata": {},
   "outputs": [
    {
     "name": "stdout",
     "output_type": "stream",
     "text": [
      "    age Age_Category\n",
      "0  22.0        Adult\n",
      "1  38.0        Adult\n",
      "2  26.0        Adult\n",
      "3  35.0        Adult\n",
      "4  35.0        Adult\n"
     ]
    }
   ],
   "source": [
    "#Bin the \"Age\" column into categories like 'Child', 'Teen', 'Adult', and 'Senior'.\n",
    "# Define age bins and labels\n",
    "bins = [0, 12, 19, 59, 120]  # Bins for 'Child', 'Teen', 'Adult', and 'Senior'\n",
    "labels = ['Child', 'Teen', 'Adult', 'Senior']\n",
    "\n",
    "# Bin the 'age' column into categories\n",
    "titanic_cleaned['Age_Category'] = pd.cut(titanic_cleaned['age'], bins=bins, labels=labels, right=False)\n",
    "\n",
    "# Display the first few rows of the new column\n",
    "print(titanic_cleaned[['age', 'Age_Category']].head())"
   ]
  },
  {
   "cell_type": "code",
   "execution_count": null,
   "id": "a3d2bfb5-a6d5-4b11-9730-ce3ad2714394",
   "metadata": {},
   "outputs": [],
   "source": []
  }
 ],
 "metadata": {
  "kernelspec": {
   "display_name": "Python 3 (ipykernel)",
   "language": "python",
   "name": "python3"
  },
  "language_info": {
   "codemirror_mode": {
    "name": "ipython",
    "version": 3
   },
   "file_extension": ".py",
   "mimetype": "text/x-python",
   "name": "python",
   "nbconvert_exporter": "python",
   "pygments_lexer": "ipython3",
   "version": "3.11.7"
  }
 },
 "nbformat": 4,
 "nbformat_minor": 5
}
