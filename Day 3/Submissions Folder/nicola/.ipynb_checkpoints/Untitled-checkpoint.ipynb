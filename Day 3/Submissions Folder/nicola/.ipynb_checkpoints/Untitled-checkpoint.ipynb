{
 "cells": [
  {
   "cell_type": "code",
   "execution_count": 2,
   "id": "e06e9eeb-e5e4-4bc8-aabd-b9bb6ad65a00",
   "metadata": {},
   "outputs": [],
   "source": [
    "import numpy as np"
   ]
  },
  {
   "cell_type": "code",
   "execution_count": 4,
   "id": "4dfc69f2-a5ca-4063-a3b2-039a263c7b4d",
   "metadata": {},
   "outputs": [],
   "source": [
    "import pandas as pd"
   ]
  },
  {
   "cell_type": "code",
   "execution_count": 6,
   "id": "eba3acfe-0048-427b-95db-bc75c7a65ff2",
   "metadata": {},
   "outputs": [],
   "source": [
    "import pandas as pd"
   ]
  },
  {
   "cell_type": "code",
   "execution_count": 9,
   "id": "ffa0e356-3486-4551-ac88-9636e0fdcc0b",
   "metadata": {},
   "outputs": [
    {
     "name": "stdout",
     "output_type": "stream",
     "text": [
      "Requirement already satisfied: scikit-learn in c:\\programdata\\anaconda3\\lib\\site-packages (1.2.2)\n",
      "Requirement already satisfied: numpy>=1.17.3 in c:\\programdata\\anaconda3\\lib\\site-packages (from scikit-learn) (1.26.4)\n",
      "Requirement already satisfied: scipy>=1.3.2 in c:\\programdata\\anaconda3\\lib\\site-packages (from scikit-learn) (1.11.4)\n",
      "Requirement already satisfied: joblib>=1.1.1 in c:\\programdata\\anaconda3\\lib\\site-packages (from scikit-learn) (1.2.0)\n",
      "Requirement already satisfied: threadpoolctl>=2.0.0 in c:\\programdata\\anaconda3\\lib\\site-packages (from scikit-learn) (2.2.0)\n",
      "Note: you may need to restart the kernel to use updated packages.\n"
     ]
    }
   ],
   "source": [
    "pip install scikit-learn"
   ]
  },
  {
   "cell_type": "code",
   "execution_count": 10,
   "id": "b643b78a-bd1c-471d-983e-1c6c78eded74",
   "metadata": {},
   "outputs": [],
   "source": [
    "import sklearn\n",
    "from sklearn.datasets import load_iris\n",
    "from sklearn.model_selection import train_test_split\n",
    "from sklearn.ensemble import RandomForestClassifier\n"
   ]
  },
  {
   "cell_type": "code",
   "execution_count": 11,
   "id": "fc3517e0-684b-4a23-a2dc-234401ecda0c",
   "metadata": {},
   "outputs": [],
   "source": [
    "data = load_iris()\n",
    "X, y = data.data, data.target"
   ]
  },
  {
   "cell_type": "code",
   "execution_count": 12,
   "id": "f65e20be-8b63-4283-90a9-fc65e3a5f10b",
   "metadata": {},
   "outputs": [
    {
     "name": "stdout",
     "output_type": "stream",
     "text": [
      "1.2.2\n"
     ]
    }
   ],
   "source": [
    "import sklearn\n",
    "print(sklearn.__version__)"
   ]
  },
  {
   "cell_type": "code",
   "execution_count": 14,
   "id": "c60e26fa-d444-4027-8448-482635d02386",
   "metadata": {},
   "outputs": [],
   "source": [
    "import seaborn as sns"
   ]
  },
  {
   "cell_type": "code",
   "execution_count": 16,
   "id": "4c82a9e1-bb4b-444f-ac95-c809d524378f",
   "metadata": {},
   "outputs": [],
   "source": [
    "titanic_df = sns.load_dataset('titanic')"
   ]
  },
  {
   "cell_type": "code",
   "execution_count": 25,
   "id": "dd82d950-b50b-4fd1-91a9-cc02ea712f69",
   "metadata": {},
   "outputs": [
    {
     "data": {
      "text/plain": [
       "pandas.core.frame.DataFrame"
      ]
     },
     "execution_count": 25,
     "metadata": {},
     "output_type": "execute_result"
    }
   ],
   "source": [
    "type(titanic_df)"
   ]
  },
  {
   "cell_type": "code",
   "execution_count": 68,
   "id": "0029dc53-1fd0-425a-a25f-d14319450c57",
   "metadata": {},
   "outputs": [
    {
     "data": {
      "text/html": [
       "<div>\n",
       "<style scoped>\n",
       "    .dataframe tbody tr th:only-of-type {\n",
       "        vertical-align: middle;\n",
       "    }\n",
       "\n",
       "    .dataframe tbody tr th {\n",
       "        vertical-align: top;\n",
       "    }\n",
       "\n",
       "    .dataframe thead th {\n",
       "        text-align: right;\n",
       "    }\n",
       "</style>\n",
       "<table border=\"1\" class=\"dataframe\">\n",
       "  <thead>\n",
       "    <tr style=\"text-align: right;\">\n",
       "      <th></th>\n",
       "      <th>survived</th>\n",
       "      <th>pclass</th>\n",
       "      <th>sex</th>\n",
       "      <th>age</th>\n",
       "      <th>sibsp</th>\n",
       "      <th>parch</th>\n",
       "      <th>fare</th>\n",
       "      <th>embarked</th>\n",
       "      <th>class</th>\n",
       "      <th>who</th>\n",
       "      <th>adult_male</th>\n",
       "      <th>deck</th>\n",
       "      <th>embark_town</th>\n",
       "      <th>alive</th>\n",
       "      <th>alone</th>\n",
       "    </tr>\n",
       "  </thead>\n",
       "  <tbody>\n",
       "    <tr>\n",
       "      <th>0</th>\n",
       "      <td>0</td>\n",
       "      <td>3</td>\n",
       "      <td>male</td>\n",
       "      <td>22.0</td>\n",
       "      <td>1</td>\n",
       "      <td>0</td>\n",
       "      <td>7.2500</td>\n",
       "      <td>2</td>\n",
       "      <td>Third</td>\n",
       "      <td>man</td>\n",
       "      <td>True</td>\n",
       "      <td>NaN</td>\n",
       "      <td>Southampton</td>\n",
       "      <td>no</td>\n",
       "      <td>False</td>\n",
       "    </tr>\n",
       "    <tr>\n",
       "      <th>1</th>\n",
       "      <td>1</td>\n",
       "      <td>1</td>\n",
       "      <td>female</td>\n",
       "      <td>38.0</td>\n",
       "      <td>1</td>\n",
       "      <td>0</td>\n",
       "      <td>71.2833</td>\n",
       "      <td>0</td>\n",
       "      <td>First</td>\n",
       "      <td>woman</td>\n",
       "      <td>False</td>\n",
       "      <td>C</td>\n",
       "      <td>Cherbourg</td>\n",
       "      <td>yes</td>\n",
       "      <td>False</td>\n",
       "    </tr>\n",
       "    <tr>\n",
       "      <th>2</th>\n",
       "      <td>1</td>\n",
       "      <td>3</td>\n",
       "      <td>female</td>\n",
       "      <td>26.0</td>\n",
       "      <td>0</td>\n",
       "      <td>0</td>\n",
       "      <td>7.9250</td>\n",
       "      <td>2</td>\n",
       "      <td>Third</td>\n",
       "      <td>woman</td>\n",
       "      <td>False</td>\n",
       "      <td>NaN</td>\n",
       "      <td>Southampton</td>\n",
       "      <td>yes</td>\n",
       "      <td>True</td>\n",
       "    </tr>\n",
       "    <tr>\n",
       "      <th>3</th>\n",
       "      <td>1</td>\n",
       "      <td>1</td>\n",
       "      <td>female</td>\n",
       "      <td>35.0</td>\n",
       "      <td>1</td>\n",
       "      <td>0</td>\n",
       "      <td>53.1000</td>\n",
       "      <td>2</td>\n",
       "      <td>First</td>\n",
       "      <td>woman</td>\n",
       "      <td>False</td>\n",
       "      <td>C</td>\n",
       "      <td>Southampton</td>\n",
       "      <td>yes</td>\n",
       "      <td>False</td>\n",
       "    </tr>\n",
       "    <tr>\n",
       "      <th>4</th>\n",
       "      <td>0</td>\n",
       "      <td>3</td>\n",
       "      <td>male</td>\n",
       "      <td>35.0</td>\n",
       "      <td>0</td>\n",
       "      <td>0</td>\n",
       "      <td>8.0500</td>\n",
       "      <td>2</td>\n",
       "      <td>Third</td>\n",
       "      <td>man</td>\n",
       "      <td>True</td>\n",
       "      <td>NaN</td>\n",
       "      <td>Southampton</td>\n",
       "      <td>no</td>\n",
       "      <td>True</td>\n",
       "    </tr>\n",
       "  </tbody>\n",
       "</table>\n",
       "</div>"
      ],
      "text/plain": [
       "   survived  pclass     sex   age  sibsp  parch     fare  embarked  class  \\\n",
       "0         0       3    male  22.0      1      0   7.2500         2  Third   \n",
       "1         1       1  female  38.0      1      0  71.2833         0  First   \n",
       "2         1       3  female  26.0      0      0   7.9250         2  Third   \n",
       "3         1       1  female  35.0      1      0  53.1000         2  First   \n",
       "4         0       3    male  35.0      0      0   8.0500         2  Third   \n",
       "\n",
       "     who  adult_male deck  embark_town alive  alone  \n",
       "0    man        True  NaN  Southampton    no  False  \n",
       "1  woman       False    C    Cherbourg   yes  False  \n",
       "2  woman       False  NaN  Southampton   yes   True  \n",
       "3  woman       False    C  Southampton   yes  False  \n",
       "4    man        True  NaN  Southampton    no   True  "
      ]
     },
     "execution_count": 68,
     "metadata": {},
     "output_type": "execute_result"
    }
   ],
   "source": [
    "titanic_df.head()"
   ]
  },
  {
   "cell_type": "code",
   "execution_count": 29,
   "id": "982733b9-d487-44c6-87d9-0aeefd5be863",
   "metadata": {},
   "outputs": [
    {
     "data": {
      "text/plain": [
       "survived         0\n",
       "pclass           0\n",
       "sex              0\n",
       "age            177\n",
       "sibsp            0\n",
       "parch            0\n",
       "fare             0\n",
       "embarked         2\n",
       "class            0\n",
       "who              0\n",
       "adult_male       0\n",
       "deck           688\n",
       "embark_town      2\n",
       "alive            0\n",
       "alone            0\n",
       "dtype: int64"
      ]
     },
     "execution_count": 29,
     "metadata": {},
     "output_type": "execute_result"
    }
   ],
   "source": [
    "# Finding na/null values\n",
    "titanic_df.isnull().sum()"
   ]
  },
  {
   "cell_type": "code",
   "execution_count": 19,
   "id": "53d7a279-c500-438d-8bd8-bf48f80b8244",
   "metadata": {},
   "outputs": [],
   "source": [
    "import pandas as pd"
   ]
  },
  {
   "cell_type": "code",
   "execution_count": 23,
   "id": "b8527357-c5a2-4202-854a-331f2f29344a",
   "metadata": {},
   "outputs": [
    {
     "name": "stdout",
     "output_type": "stream",
     "text": [
      "   survived  pclass     sex   age  sibsp  parch     fare embarked  class  \\\n",
      "0         0       3    male  22.0      1      0   7.2500        S  Third   \n",
      "1         1       1  female  38.0      1      0  71.2833        C  First   \n",
      "2         1       3  female  26.0      0      0   7.9250        S  Third   \n",
      "3         1       1  female  35.0      1      0  53.1000        S  First   \n",
      "4         0       3    male  35.0      0      0   8.0500        S  Third   \n",
      "\n",
      "     who  adult_male deck  embark_town alive  alone  \n",
      "0    man        True  NaN  Southampton    no  False  \n",
      "1  woman       False    C    Cherbourg   yes  False  \n",
      "2  woman       False  NaN  Southampton   yes   True  \n",
      "3  woman       False    C  Southampton   yes  False  \n",
      "4    man        True  NaN  Southampton    no   True  \n"
     ]
    }
   ],
   "source": [
    "print(titanic_df.head())"
   ]
  },
  {
   "cell_type": "code",
   "execution_count": 33,
   "id": "5b557406-12dd-4945-94be-5304171b3937",
   "metadata": {},
   "outputs": [
    {
     "name": "stdout",
     "output_type": "stream",
     "text": [
      "\n",
      "Drop rows with any missing values:\n",
      "     survived  pclass     sex   age  sibsp  parch     fare embarked  class  \\\n",
      "1           1       1  female  38.0      1      0  71.2833        C  First   \n",
      "3           1       1  female  35.0      1      0  53.1000        S  First   \n",
      "6           0       1    male  54.0      0      0  51.8625        S  First   \n",
      "10          1       3  female   4.0      1      1  16.7000        S  Third   \n",
      "11          1       1  female  58.0      0      0  26.5500        S  First   \n",
      "..        ...     ...     ...   ...    ...    ...      ...      ...    ...   \n",
      "871         1       1  female  47.0      1      1  52.5542        S  First   \n",
      "872         0       1    male  33.0      0      0   5.0000        S  First   \n",
      "879         1       1  female  56.0      0      1  83.1583        C  First   \n",
      "887         1       1  female  19.0      0      0  30.0000        S  First   \n",
      "889         1       1    male  26.0      0      0  30.0000        C  First   \n",
      "\n",
      "       who  adult_male deck  embark_town alive  alone  \n",
      "1    woman       False    C    Cherbourg   yes  False  \n",
      "3    woman       False    C  Southampton   yes  False  \n",
      "6      man        True    E  Southampton    no   True  \n",
      "10   child       False    G  Southampton   yes  False  \n",
      "11   woman       False    C  Southampton   yes   True  \n",
      "..     ...         ...  ...          ...   ...    ...  \n",
      "871  woman       False    D  Southampton   yes  False  \n",
      "872    man        True    B  Southampton    no   True  \n",
      "879  woman       False    C    Cherbourg   yes  False  \n",
      "887  woman       False    B  Southampton   yes   True  \n",
      "889    man        True    C    Cherbourg   yes   True  \n",
      "\n",
      "[182 rows x 15 columns]\n"
     ]
    }
   ],
   "source": [
    "# Remove missing values\n",
    "cleaned_df = titanic_df.dropna()\n",
    "print(\"\\nDrop rows with any missing values:\")\n",
    "print(cleaned_df)"
   ]
  },
  {
   "cell_type": "code",
   "execution_count": 38,
   "id": "c7e800d0-93b4-4d71-90c0-f654ce13f684",
   "metadata": {},
   "outputs": [
    {
     "name": "stdout",
     "output_type": "stream",
     "text": [
      "\n",
      "DataFrame after removing duplicates:\n",
      "      survived  pclass     sex   age  sibsp  parch     fare embarked  class  \\\n",
      "0           0       3    male  22.0      1      0   7.2500        S  Third   \n",
      "1           1       1  female  38.0      1      0  71.2833        C  First   \n",
      "2           1       3  female  26.0      0      0   7.9250        S  Third   \n",
      "3           1       1  female  35.0      1      0  53.1000        S  First   \n",
      "4           0       3    male  35.0      0      0   8.0500        S  Third   \n",
      "..        ...     ...     ...   ...    ...    ...      ...      ...    ...   \n",
      "885         0       3  female  39.0      0      5  29.1250        Q  Third   \n",
      "887         1       1  female  19.0      0      0  30.0000        S  First   \n",
      "888         0       3  female   NaN      1      2  23.4500        S  Third   \n",
      "889         1       1    male  26.0      0      0  30.0000        C  First   \n",
      "890         0       3    male  32.0      0      0   7.7500        Q  Third   \n",
      "\n",
      "       who  adult_male deck  embark_town alive  alone  \n",
      "0      man        True  NaN  Southampton    no  False  \n",
      "1    woman       False    C    Cherbourg   yes  False  \n",
      "2    woman       False  NaN  Southampton   yes   True  \n",
      "3    woman       False    C  Southampton   yes  False  \n",
      "4      man        True  NaN  Southampton    no   True  \n",
      "..     ...         ...  ...          ...   ...    ...  \n",
      "885  woman       False  NaN   Queenstown    no  False  \n",
      "887  woman       False    B  Southampton   yes   True  \n",
      "888  woman       False  NaN  Southampton    no  False  \n",
      "889    man        True    C    Cherbourg   yes   True  \n",
      "890    man        True  NaN   Queenstown    no   True  \n",
      "\n",
      "[784 rows x 15 columns]\n"
     ]
    }
   ],
   "source": [
    "#identify and remove duplicates\n",
    "cleaned_df = titanic_df.drop_duplicates()\n",
    "print(\"\\nDataFrame after removing duplicates:\\n\", cleaned_df)"
   ]
  },
  {
   "cell_type": "code",
   "execution_count": 44,
   "id": "6f342cbe-8d57-41fe-b07a-a130e93b369e",
   "metadata": {},
   "outputs": [
    {
     "name": "stdout",
     "output_type": "stream",
     "text": [
      "['male' 'female']\n"
     ]
    }
   ],
   "source": [
    "#Inspect the \"Sex\" column for inconsistencies and standardize values.\n",
    "df = titanic_df\n",
    "print(titanic_df['sex'].unique())"
   ]
  },
  {
   "cell_type": "code",
   "execution_count": 46,
   "id": "bda3faea-f702-4e8e-bde2-93335d22c003",
   "metadata": {},
   "outputs": [
    {
     "name": "stdout",
     "output_type": "stream",
     "text": [
      "         survived      pclass         age       sibsp       parch        fare\n",
      "count  891.000000  891.000000  714.000000  891.000000  891.000000  891.000000\n",
      "mean     0.383838    2.308642   29.699118    0.523008    0.381594   32.204208\n",
      "std      0.486592    0.836071   14.526497    1.102743    0.806057   49.693429\n",
      "min      0.000000    1.000000    0.420000    0.000000    0.000000    0.000000\n",
      "25%      0.000000    2.000000   20.125000    0.000000    0.000000    7.910400\n",
      "50%      0.000000    3.000000   28.000000    0.000000    0.000000   14.454200\n",
      "75%      1.000000    3.000000   38.000000    1.000000    0.000000   31.000000\n",
      "max      1.000000    3.000000   80.000000    8.000000    6.000000  512.329200\n"
     ]
    }
   ],
   "source": [
    "#Statistical Summary\n",
    "print(titanic_df.describe())"
   ]
  },
  {
   "cell_type": "code",
   "execution_count": 47,
   "id": "1ad09f15-5b36-41c8-ae13-de8a749ef306",
   "metadata": {},
   "outputs": [
    {
     "name": "stdout",
     "output_type": "stream",
     "text": [
      "\n",
      "Age Outlier Bounds: -6.6875 64.8125\n"
     ]
    }
   ],
   "source": [
    "# Calculating IQR for \"Age\"\n",
    "Q1_age = df['age'].quantile(0.25)\n",
    "Q3_age = df['age'].quantile(0.75)\n",
    "IQR_age = Q3_age - Q1_age\n",
    "lower_bound_age = Q1_age - 1.5 * IQR_age\n",
    "upper_bound_age = Q3_age + 1.5 * IQR_age\n",
    "\n",
    "print(\"\\nAge Outlier Bounds:\", lower_bound_age, upper_bound_age)"
   ]
  },
  {
   "cell_type": "code",
   "execution_count": 48,
   "id": "2820bcdf-8a9b-4036-a2c3-d4d6f9eb2e2e",
   "metadata": {},
   "outputs": [
    {
     "name": "stdout",
     "output_type": "stream",
     "text": [
      "\n",
      "Fare Outlier Bounds: -26.724 65.6344\n"
     ]
    }
   ],
   "source": [
    "# Calculating IQR for \"Fare\"\n",
    "Q1_fare = df['fare'].quantile(0.25)\n",
    "Q3_fare = df['fare'].quantile(0.75)\n",
    "IQR_fare = Q3_fare - Q1_fare\n",
    "lower_bound_fare = Q1_fare - 1.5 * IQR_fare\n",
    "upper_bound_fare = Q3_fare + 1.5 * IQR_fare\n",
    "\n",
    "print(\"\\nFare Outlier Bounds:\", lower_bound_fare, upper_bound_fare)"
   ]
  },
  {
   "cell_type": "code",
   "execution_count": 50,
   "id": "88e6da2c-5a93-4626-9865-08299903b092",
   "metadata": {},
   "outputs": [
    {
     "data": {
      "text/plain": [
       "<Figure size 1200x500 with 0 Axes>"
      ]
     },
     "execution_count": 50,
     "metadata": {},
     "output_type": "execute_result"
    },
    {
     "data": {
      "text/plain": [
       "<Figure size 1200x500 with 0 Axes>"
      ]
     },
     "metadata": {},
     "output_type": "display_data"
    }
   ],
   "source": [
    "import seaborn as sns\n",
    "import matplotlib.pyplot as plt\n",
    "\n",
    "plt.figure(figsize=(12, 5))"
   ]
  },
  {
   "cell_type": "code",
   "execution_count": 52,
   "id": "0d41488e-0cee-4e78-8717-5f9732078d60",
   "metadata": {},
   "outputs": [
    {
     "data": {
      "image/png": "[encoded data removed]",
      "text/plain": [
       "<Figure size 640x480 with 2 Axes>"
      ]
     },
     "metadata": {},
     "output_type": "display_data"
    }
   ],
   "source": [
    "# Box plot for Age\n",
    "plt.subplot(1, 2, 1)\n",
    "sns.boxplot(x=df['age'])\n",
    "plt.title(\"Age Boxplot\")\n",
    "\n",
    "# Box plot for Fare\n",
    "plt.subplot(1, 2, 2)\n",
    "sns.boxplot(x=df['fare'])\n",
    "plt.title(\"Fare Boxplot\")\n",
    "\n",
    "plt.show()"
   ]
  },
  {
   "cell_type": "code",
   "execution_count": 53,
   "id": "29d85901-e5d7-43e1-93a4-f701836b6cff",
   "metadata": {},
   "outputs": [],
   "source": [
    "# Removing outliers from \"Age\"\n",
    "df = df[(df['age'] >= lower_bound_age) & (df['age'] <= upper_bound_age)]"
   ]
  },
  {
   "cell_type": "code",
   "execution_count": 54,
   "id": "8e3cef1d-e145-4877-aae0-c4d6db6a1c75",
   "metadata": {},
   "outputs": [
    {
     "name": "stdout",
     "output_type": "stream",
     "text": [
      "\n",
      "Data after removing outliers:\n",
      "     survived  pclass     sex   age  sibsp  parch     fare embarked   class  \\\n",
      "0           0       3    male  22.0      1      0   7.2500        S   Third   \n",
      "2           1       3  female  26.0      0      0   7.9250        S   Third   \n",
      "3           1       1  female  35.0      1      0  53.1000        S   First   \n",
      "4           0       3    male  35.0      0      0   8.0500        S   Third   \n",
      "6           0       1    male  54.0      0      0  51.8625        S   First   \n",
      "..        ...     ...     ...   ...    ...    ...      ...      ...     ...   \n",
      "885         0       3  female  39.0      0      5  29.1250        Q   Third   \n",
      "886         0       2    male  27.0      0      0  13.0000        S  Second   \n",
      "887         1       1  female  19.0      0      0  30.0000        S   First   \n",
      "889         1       1    male  26.0      0      0  30.0000        C   First   \n",
      "890         0       3    male  32.0      0      0   7.7500        Q   Third   \n",
      "\n",
      "       who  adult_male deck  embark_town alive  alone  \n",
      "0      man        True  NaN  Southampton    no  False  \n",
      "2    woman       False  NaN  Southampton   yes   True  \n",
      "3    woman       False    C  Southampton   yes  False  \n",
      "4      man        True  NaN  Southampton    no   True  \n",
      "6      man        True    E  Southampton    no   True  \n",
      "..     ...         ...  ...          ...   ...    ...  \n",
      "885  woman       False  NaN   Queenstown    no  False  \n",
      "886    man        True  NaN  Southampton    no   True  \n",
      "887  woman       False    B  Southampton   yes   True  \n",
      "889    man        True    C    Cherbourg   yes   True  \n",
      "890    man        True  NaN   Queenstown    no   True  \n",
      "\n",
      "[603 rows x 15 columns]\n"
     ]
    }
   ],
   "source": [
    "# Removing outliers from \"Fare\"\n",
    "df = df[(df['fare'] >= lower_bound_fare) & (df['fare'] <= upper_bound_fare)]\n",
    "\n",
    "print(\"\\nData after removing outliers:\")\n",
    "print(df)"
   ]
  },
  {
   "cell_type": "code",
   "execution_count": 55,
   "id": "ab651989-c63c-4e23-aded-d0d18eeebfa4",
   "metadata": {},
   "outputs": [
    {
     "name": "stdout",
     "output_type": "stream",
     "text": [
      "\n",
      "DataFrame with the new 'Family_Size' feature:\n",
      "   sibsp  parch  Family_Size\n",
      "0      1      0            2\n",
      "2      0      0            1\n",
      "3      1      0            2\n",
      "4      0      0            1\n",
      "6      0      0            1\n"
     ]
    }
   ],
   "source": [
    "#Creating family size feature\n",
    "df.loc[:, 'Family_Size'] = df['sibsp'] + df['parch'] + 1\n",
    "\n",
    "print(\"\\nDataFrame with the new 'Family_Size' feature:\")\n",
    "print(df[['sibsp', 'parch', 'Family_Size']].head())\n"
   ]
  },
  {
   "cell_type": "code",
   "execution_count": 57,
   "id": "d8800e07-b65c-4606-8925-14e40554190d",
   "metadata": {},
   "outputs": [],
   "source": [
    "from sklearn.preprocessing import LabelEncoder"
   ]
  },
  {
   "cell_type": "code",
   "execution_count": 58,
   "id": "861a4431-56fb-4b8e-8c7b-e928acfcd0fd",
   "metadata": {},
   "outputs": [],
   "source": [
    "# Initialize the LabelEncoder\n",
    "label_encoder = LabelEncoder()"
   ]
  },
  {
   "cell_type": "code",
   "execution_count": 60,
   "id": "63c3dc17-9c9e-477b-95b4-c913b22eda6a",
   "metadata": {},
   "outputs": [
    {
     "name": "stdout",
     "output_type": "stream",
     "text": [
      "\n",
      "Label Encoded 'embarked' column:\n",
      "  embarked\n",
      "0        S\n",
      "2        S\n",
      "3        S\n",
      "4        S\n",
      "6        S\n"
     ]
    }
   ],
   "source": [
    "# Apply label encoding to the \"Embarked\" column\n",
    "titanic_df['embarked'] = label_encoder.fit_transform(titanic_df['embarked'])\n",
    "print(\"\\nLabel Encoded 'embarked' column:\")\n",
    "print(df[['embarked']].head())"
   ]
  },
  {
   "cell_type": "code",
   "execution_count": 61,
   "id": "d43e3930-34de-41e5-bb43-4e220462edd0",
   "metadata": {},
   "outputs": [
    {
     "name": "stdout",
     "output_type": "stream",
     "text": [
      "\n",
      "Mapping of categorical values to numerical labels:\n",
      "{0: 0, 1: 1, 2: 2, 3: 3}\n"
     ]
    }
   ],
   "source": [
    "# Create a mapping dictionary\n",
    "mapping = dict(zip(label_encoder.classes_, label_encoder.transform(label_encoder.classes_)))\n",
    "print(\"\\nMapping of categorical values to numerical labels:\")\n",
    "print(mapping)"
   ]
  },
  {
   "cell_type": "code",
   "execution_count": 62,
   "id": "1554961c-a3ea-4eeb-85d4-f7a101c74c73",
   "metadata": {},
   "outputs": [
    {
     "name": "stdout",
     "output_type": "stream",
     "text": [
      "\n",
      "Updated dataset saved successfully!\n"
     ]
    }
   ],
   "source": [
    "#save the updated Dataset\n",
    "df.to_csv('titanic.csv', index=False)\n",
    "print(\"\\nUpdated dataset saved successfully!\")"
   ]
  },
  {
   "cell_type": "code",
   "execution_count": 69,
   "id": "76f4a292-6c9a-48cb-97c9-5ad192973d30",
   "metadata": {},
   "outputs": [
    {
     "data": {
      "text/html": [
       "<div>\n",
       "<style scoped>\n",
       "    .dataframe tbody tr th:only-of-type {\n",
       "        vertical-align: middle;\n",
       "    }\n",
       "\n",
       "    .dataframe tbody tr th {\n",
       "        vertical-align: top;\n",
       "    }\n",
       "\n",
       "    .dataframe thead th {\n",
       "        text-align: right;\n",
       "    }\n",
       "</style>\n",
       "<table border=\"1\" class=\"dataframe\">\n",
       "  <thead>\n",
       "    <tr style=\"text-align: right;\">\n",
       "      <th></th>\n",
       "      <th>survived</th>\n",
       "      <th>pclass</th>\n",
       "      <th>sex</th>\n",
       "      <th>age</th>\n",
       "      <th>sibsp</th>\n",
       "      <th>parch</th>\n",
       "      <th>fare</th>\n",
       "      <th>embarked</th>\n",
       "      <th>class</th>\n",
       "      <th>who</th>\n",
       "      <th>adult_male</th>\n",
       "      <th>deck</th>\n",
       "      <th>embark_town</th>\n",
       "      <th>alive</th>\n",
       "      <th>alone</th>\n",
       "    </tr>\n",
       "  </thead>\n",
       "  <tbody>\n",
       "    <tr>\n",
       "      <th>0</th>\n",
       "      <td>0</td>\n",
       "      <td>3</td>\n",
       "      <td>male</td>\n",
       "      <td>22.0</td>\n",
       "      <td>1</td>\n",
       "      <td>0</td>\n",
       "      <td>7.2500</td>\n",
       "      <td>2</td>\n",
       "      <td>Third</td>\n",
       "      <td>man</td>\n",
       "      <td>True</td>\n",
       "      <td>NaN</td>\n",
       "      <td>Southampton</td>\n",
       "      <td>no</td>\n",
       "      <td>False</td>\n",
       "    </tr>\n",
       "    <tr>\n",
       "      <th>1</th>\n",
       "      <td>1</td>\n",
       "      <td>1</td>\n",
       "      <td>female</td>\n",
       "      <td>38.0</td>\n",
       "      <td>1</td>\n",
       "      <td>0</td>\n",
       "      <td>71.2833</td>\n",
       "      <td>0</td>\n",
       "      <td>First</td>\n",
       "      <td>woman</td>\n",
       "      <td>False</td>\n",
       "      <td>C</td>\n",
       "      <td>Cherbourg</td>\n",
       "      <td>yes</td>\n",
       "      <td>False</td>\n",
       "    </tr>\n",
       "    <tr>\n",
       "      <th>2</th>\n",
       "      <td>1</td>\n",
       "      <td>3</td>\n",
       "      <td>female</td>\n",
       "      <td>26.0</td>\n",
       "      <td>0</td>\n",
       "      <td>0</td>\n",
       "      <td>7.9250</td>\n",
       "      <td>2</td>\n",
       "      <td>Third</td>\n",
       "      <td>woman</td>\n",
       "      <td>False</td>\n",
       "      <td>NaN</td>\n",
       "      <td>Southampton</td>\n",
       "      <td>yes</td>\n",
       "      <td>True</td>\n",
       "    </tr>\n",
       "    <tr>\n",
       "      <th>3</th>\n",
       "      <td>1</td>\n",
       "      <td>1</td>\n",
       "      <td>female</td>\n",
       "      <td>35.0</td>\n",
       "      <td>1</td>\n",
       "      <td>0</td>\n",
       "      <td>53.1000</td>\n",
       "      <td>2</td>\n",
       "      <td>First</td>\n",
       "      <td>woman</td>\n",
       "      <td>False</td>\n",
       "      <td>C</td>\n",
       "      <td>Southampton</td>\n",
       "      <td>yes</td>\n",
       "      <td>False</td>\n",
       "    </tr>\n",
       "    <tr>\n",
       "      <th>4</th>\n",
       "      <td>0</td>\n",
       "      <td>3</td>\n",
       "      <td>male</td>\n",
       "      <td>35.0</td>\n",
       "      <td>0</td>\n",
       "      <td>0</td>\n",
       "      <td>8.0500</td>\n",
       "      <td>2</td>\n",
       "      <td>Third</td>\n",
       "      <td>man</td>\n",
       "      <td>True</td>\n",
       "      <td>NaN</td>\n",
       "      <td>Southampton</td>\n",
       "      <td>no</td>\n",
       "      <td>True</td>\n",
       "    </tr>\n",
       "  </tbody>\n",
       "</table>\n",
       "</div>"
      ],
      "text/plain": [
       "   survived  pclass     sex   age  sibsp  parch     fare  embarked  class  \\\n",
       "0         0       3    male  22.0      1      0   7.2500         2  Third   \n",
       "1         1       1  female  38.0      1      0  71.2833         0  First   \n",
       "2         1       3  female  26.0      0      0   7.9250         2  Third   \n",
       "3         1       1  female  35.0      1      0  53.1000         2  First   \n",
       "4         0       3    male  35.0      0      0   8.0500         2  Third   \n",
       "\n",
       "     who  adult_male deck  embark_town alive  alone  \n",
       "0    man        True  NaN  Southampton    no  False  \n",
       "1  woman       False    C    Cherbourg   yes  False  \n",
       "2  woman       False  NaN  Southampton   yes   True  \n",
       "3  woman       False    C  Southampton   yes  False  \n",
       "4    man        True  NaN  Southampton    no   True  "
      ]
     },
     "execution_count": 69,
     "metadata": {},
     "output_type": "execute_result"
    }
   ],
   "source": [
    "titanic_df.head()"
   ]
  },
  {
   "cell_type": "code",
   "execution_count": 71,
   "id": "16b8e741-b0db-49f4-8021-e13b3631a17b",
   "metadata": {},
   "outputs": [
    {
     "name": "stdout",
     "output_type": "stream",
     "text": [
      "\n",
      "DataFrame with binned 'age' column:\n",
      "    age Age_Group\n",
      "0  22.0     Adult\n",
      "1  38.0     Adult\n",
      "2  26.0     Adult\n",
      "3  35.0     Adult\n",
      "4  35.0     Adult\n"
     ]
    }
   ],
   "source": [
    "# Define age bins and labels\n",
    "bins = [0, 12, 19, 60, 120]  # Age ranges\n",
    "labels = ['Child', 'Teen', 'Adult', 'Senior']\n",
    "\n",
    "# Bin the age column\n",
    "titanic_df['Age_Group'] = pd.cut(titanic_df['age'], bins=bins, labels=labels, right=False)\n",
    "\n",
    "print(\"\\nDataFrame with binned 'age' column:\")\n",
    "print(titanic_df[['age', 'Age_Group']].head())"
   ]
  },
  {
   "cell_type": "code",
   "execution_count": null,
   "id": "2a659f82-f226-4640-a94d-ed308d90ccb4",
   "metadata": {},
   "outputs": [],
   "source": []
  }
 ],
 "metadata": {
  "kernelspec": {
   "display_name": "Python 3 (ipykernel)",
   "language": "python",
   "name": "python3"
  },
  "language_info": {
   "codemirror_mode": {
    "name": "ipython",
    "version": 3
   },
   "file_extension": ".py",
   "mimetype": "text/x-python",
   "name": "python",
   "nbconvert_exporter": "python",
   "pygments_lexer": "ipython3",
   "version": "3.11.7"
  }
 },
 "nbformat": 4,
 "nbformat_minor": 5
}
